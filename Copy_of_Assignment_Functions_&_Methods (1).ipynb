{
  "nbformat": 4,
  "nbformat_minor": 0,
  "metadata": {
    "colab": {
      "name": "Copy of Assignment - Functions & Methods.ipynb",
      "provenance": [],
      "collapsed_sections": []
    },
    "kernelspec": {
      "display_name": "Python 3",
      "language": "python",
      "name": "python3"
    },
    "language_info": {
      "codemirror_mode": {
        "name": "ipython",
        "version": 3
      },
      "file_extension": ".py",
      "mimetype": "text/x-python",
      "name": "python",
      "nbconvert_exporter": "python",
      "pygments_lexer": "ipython3",
      "version": "3.7.3"
    }
  },
  "cells": [
    {
      "cell_type": "markdown",
      "metadata": {
        "id": "Aq5jjKHb-zdZ"
      },
      "source": [
        "# <u> Problem 1</u>\n",
        "\n",
        "### Write a function which takes the excel column name as an input and returns the corresponding column number. A few examples are :\n",
        "\n",
        "* column name = <code>'J'</code> , column number = <code>10</code>\n",
        "* column name = <code>'AP'</code> , column number = <code>42</code>\n",
        "* column name = <code>'AAA'</code>, column number = <code>703</code>\n"
      ]
    },
    {
      "cell_type": "code",
      "metadata": {
        "id": "Un0QXOa3-zdb"
      },
      "source": [
        "def get_excel_column_number(column_name):\n",
        "  '''\n",
        "  This functions returns the corresponding column number for an excel column name\n",
        "  '''\n",
        "  # Write your code here\n",
        "  result = 0\n",
        "\n",
        "  for i in range(len(column_name)):\n",
        "        result *= 26\n",
        "        result += ord(column_name[i]) - ord('A') + 1\n",
        "  return result\n"
      ],
      "execution_count": null,
      "outputs": []
    },
    {
      "cell_type": "code",
      "metadata": {
        "id": "VFSrFUwP-zdd",
        "colab": {
          "base_uri": "https://localhost:8080/"
        },
        "outputId": "b0eca040-0219-433e-81b8-18fcfcbed728"
      },
      "source": [
        "# Check\n",
        "get_excel_column_number('AAA')"
      ],
      "execution_count": null,
      "outputs": [
        {
          "output_type": "execute_result",
          "data": {
            "text/plain": [
              "703"
            ]
          },
          "metadata": {},
          "execution_count": 5
        }
      ]
    },
    {
      "cell_type": "code",
      "metadata": {
        "id": "AZaQlyAc-zde",
        "colab": {
          "base_uri": "https://localhost:8080/"
        },
        "outputId": "a58d0396-c54b-4052-a825-7dd4e9610d27"
      },
      "source": [
        "# Check\n",
        "get_excel_column_number('ALQ')"
      ],
      "execution_count": null,
      "outputs": [
        {
          "output_type": "execute_result",
          "data": {
            "text/plain": [
              "1005"
            ]
          },
          "metadata": {},
          "execution_count": 8
        }
      ]
    },
    {
      "cell_type": "markdown",
      "metadata": {
        "id": "zh_MA_BN-zd5"
      },
      "source": [
        "# <u> Problem 2</u>\n",
        "\n",
        "### We evaluate a standard machine learning classification model using various evaluation metrics. A classification model is a model which classifies a given observation or an event to a fixed set of categories. Suppose I train a machine learning model to classify images of cats and dogs. For each image, the machine classifies the image with either a <code>'Cat'</code> or a <code>'Dog'</code>. So in essence for each input image, there is a corresponding output by the model. This output can either be a <code>'Cat'</code> or a <code>'Dog'</code>.\n",
        "\n",
        "### To evaluate such a machine learning model which is trained to classify a given observation with at most two labels, a lot of candidate evaluation metrics are available. Accuracy is one of such evaluation metrics. \n",
        "\n",
        "### <u> Accuracy defintion </u> : Suppose you are given 20 input images of cats and dogs. You already know from these images that there are 11 cats and 9 dogs. You train a machine learning model to classify these images into cats and dogs. The machine predicts 9 cats correctly and 8 dogs correctly. The accuracy of the model is then defined as (correctly predicted cats and dogs)/(total cats and dogs). In this case it is (9+8)/(11+9) = 17/20 = 0.85 or 85%. It is a good practice to report the accuracy in percentages\n",
        "\n"
      ]
    },
    {
      "cell_type": "markdown",
      "metadata": {
        "id": "cp2SUazju_D7"
      },
      "source": [
        "### You are given two lists each of length 20 : one list contains the actual labels for the images of cats and dogs. The other list contains the predicted labels (by the machine) for the images of cats and dogs.\n",
        "\n",
        "### How to read the two lists ? For example for the first image, actual label is Cat and the predicted label is Cat. For the last image, actual label is Dog and the predicted label is Cat. The same index in the two lists corresponds to the same image"
      ]
    },
    {
      "cell_type": "code",
      "metadata": {
        "id": "BPsQbNPjvjAT"
      },
      "source": [
        "actual_labels = ['Cat','Dog','Cat','Cat','Dog','Cat','Dog','Cat','Cat','Cat','Dog','Dog','Cat','Cat','Cat','Dog','Dog','Dog','Cat','Dog']"
      ],
      "execution_count": null,
      "outputs": []
    },
    {
      "cell_type": "code",
      "metadata": {
        "id": "MDefeYf1v4pT"
      },
      "source": [
        "predicted_labels = ['Cat','Dog','Cat','Cat','Dog','Cat','Dog','Cat','Dog','Dog','Dog','Dog','Cat','Cat','Cat','Dog','Dog','Dog','Cat','Cat']"
      ],
      "execution_count": null,
      "outputs": []
    },
    {
      "cell_type": "code",
      "metadata": {
        "id": "lZ2d-XkyaUK0"
      },
      "source": [
        "# actual_labels_1=[]\n",
        "# count=0\n",
        "# l=len(actual_labels)\n",
        "# for i in range(l):\n",
        "#   if (actual_labels[i]==\"Cat\"):\n",
        "#     count+=1\n",
        "#     actual_labels_1.append(i)\n",
        "\n",
        "# correctly_actual_labels = len(actual_labels_1)\n",
        "# print(correctly_actual_labels)\n",
        "\n",
        "\n",
        "# predicted_labels_1=[]\n",
        "# count=0\n",
        "# l=len(predicted_labels)\n",
        "# for i in range(l):\n",
        "#   if (predicted_labels[i]==\"Cat\"):\n",
        "#     count+=1\n",
        "#     predicted_labels_1.append(i)\n",
        "\n",
        "# correctly_predicted_labels = len(predicted_labels_1)\n",
        "# print(correctly_predicted_labels)"
      ],
      "execution_count": null,
      "outputs": []
    },
    {
      "cell_type": "code",
      "metadata": {
        "id": "ll8-M6njd9h-"
      },
      "source": [
        "# actual_labels_2=[]\n",
        "# count=0\n",
        "# l=len(actual_labels)\n",
        "# for i in range(l):\n",
        "#   if (actual_labels[i]==\"Dog\"):\n",
        "#     count+=1\n",
        "#     actual_labels_2.append(i)\n",
        "\n",
        "# print(len(actual_labels_2))\n",
        "\n",
        "# predicted_labels_2=[]\n",
        "# count=0\n",
        "# l=len(predicted_labels)\n",
        "# for i in range(l):\n",
        "#   if (predicted_labels[i]==\"Dog\"):\n",
        "#     count+=1\n",
        "#     predicted_labels_2.append(i)\n",
        "\n",
        "# print(len(predicted_labels_2))"
      ],
      "execution_count": null,
      "outputs": []
    },
    {
      "cell_type": "markdown",
      "metadata": {
        "id": "hzLROuvWwZAL"
      },
      "source": [
        "### Write a function to calculate the accuracy. This functions takes two lists as inputs and returns the accuracy score in percentage"
      ]
    },
    {
      "cell_type": "code",
      "metadata": {
        "id": "HvDJXfL3-zd6"
      },
      "source": [
        "def calculate_accuracy(actual, predicted):\n",
        "  '''\n",
        "  This functions calculates the accuracy based on two input lists\n",
        "  '''\n",
        "  # Write your code here\n",
        "  count = 0\n",
        "  length_of_actual=len(actual)\n",
        "  # use for loop \n",
        "  for i in range(length_of_actual):\n",
        "    if actual[i]==predicted[i]:\n",
        "     count+=1\n",
        "  # use continue for process the loop \n",
        "    else:\n",
        "      continue\n",
        "  \n",
        "  actual_labels_correct=(count/length_of_actual)*100\n",
        "\n",
        "  return  actual_labels_correct"
      ],
      "execution_count": null,
      "outputs": []
    },
    {
      "cell_type": "code",
      "metadata": {
        "id": "At0m0hcc-zd_",
        "colab": {
          "base_uri": "https://localhost:8080/"
        },
        "outputId": "ba7ba292-1695-49f6-9e1d-1f1b8868541b"
      },
      "source": [
        "# Print the accuracy score for the given lists\n",
        "accuracy_score=calculate_accuracy(actual_labels,predicted_labels)\n",
        "print(accuracy_score)"
      ],
      "execution_count": null,
      "outputs": [
        {
          "output_type": "stream",
          "text": [
            "85.0\n"
          ],
          "name": "stdout"
        }
      ]
    },
    {
      "cell_type": "markdown",
      "metadata": {
        "id": "YyYwXAlax36r"
      },
      "source": [
        "* ### <b><u>Precision</u></b> for cats is defined as the number of correctly predicted cats divided by the number of predicted cats. Report precision in percentages.\n",
        "\n",
        "* ### <b><u>Recall</u></b> for cats is defined as the number of correctly predicted cats divided by the actual number of cats. Report recall in percentages.\n",
        "\n",
        "### We can define the same two metrics for dogs as well. \n"
      ]
    },
    {
      "cell_type": "markdown",
      "metadata": {
        "id": "VwYIek-9yd4n"
      },
      "source": [
        "# <u> Problem 3 </u> \n",
        "\n",
        "### Write a Python function which returns the precision and recall for a given input label. Use the same two lists"
      ]
    },
    {
      "cell_type": "code",
      "metadata": {
        "id": "SojiZTMSyY4T"
      },
      "source": [
        "def precision_recall(label = 'Dog'):\n",
        "  '''\n",
        "  This functions returns a tuple of precision and recall for a given input label\n",
        "  '''\n",
        "  # Your code here\n",
        "  count = 0\n",
        "\n",
        "  actual_occurance = actual_labels.count(label)\n",
        "  predicted_occurance = predicted_labels.count(label)\n",
        "\n",
        "  for i in range(len(actual_labels)):\n",
        "\n",
        "    if actual_labels[i] == label:\n",
        "      if actual_labels[i]==predicted_labels[i]:\n",
        "\n",
        "        count += 1\n",
        "\n",
        "  return (count/predicted_occurance,count/actual_occurance) \n"
      ],
      "execution_count": null,
      "outputs": []
    },
    {
      "cell_type": "code",
      "metadata": {
        "colab": {
          "base_uri": "https://localhost:8080/"
        },
        "id": "6DaVtMecPqaQ",
        "outputId": "0005d4e2-b2aa-40cb-fb8a-8110069ee636"
      },
      "source": [
        "print(precision_recall(\"Cat\"))"
      ],
      "execution_count": null,
      "outputs": [
        {
          "output_type": "stream",
          "text": [
            "(0.9, 0.8181818181818182)\n"
          ],
          "name": "stdout"
        }
      ]
    },
    {
      "cell_type": "markdown",
      "metadata": {
        "id": "I-5eBWXa1Mla"
      },
      "source": [
        "# <u> Problem 4 </u>\n",
        "\n",
        "### Write a Python function which takes a sentence and a length value as inputs and returns the counts of those words from the sentence whose length is equal to the provided input length value.\n",
        "\n",
        "### Suppose if the input for the length value is 5, it will return the count of all those words which are of length 5"
      ]
    },
    {
      "cell_type": "code",
      "metadata": {
        "id": "9ueu9nJx1uUZ"
      },
      "source": [
        "marvel_quote = \"The world has changed and none of us can go back. All we can do is our best, and sometimes the best that we can do is to start over.\""
      ],
      "execution_count": null,
      "outputs": []
    },
    {
      "cell_type": "code",
      "metadata": {
        "id": "9OPAUOCT2VQW"
      },
      "source": [
        "# Your function below. Make sure to remove the special characters such as full stop and comma.\n",
        "def fixed_length_word_counts(sentence, length=3):\n",
        "  '''\n",
        "  This function returns the count of the words with the given input length\n",
        "  '''\n",
        "  # Your code below\n",
        "  Split_sentence = sentence.split()\n",
        "\n",
        "  # using for loop to count the lenght of each element and createing a new list\n",
        "  lenght_words=[]\n",
        "\n",
        "  for i in Split_sentence:\n",
        "    lenght_words.append(len(i))\n",
        "    \n",
        "  # Use (for loop) to iterate each element from above created list  \n",
        "  # Use (if Conduction) and append the elements that accepts the given condutions and Use count \n",
        "  \n",
        "  final_len_words=[]\n",
        "\n",
        "  count=0\n",
        "  for j in lenght_words:\n",
        "   if (j==length):\n",
        "    final_len_words.append(j)\n",
        "    count+=1\n",
        "\n",
        "  print(f\"The total count of given input number is-->{count}\")\n",
        "\n",
        "  return final_len_words"
      ],
      "execution_count": null,
      "outputs": []
    },
    {
      "cell_type": "code",
      "metadata": {
        "id": "Px7OQG0j2iab",
        "colab": {
          "base_uri": "https://localhost:8080/"
        },
        "outputId": "b2db1ca9-46b2-4f26-99cc-58011400bfba"
      },
      "source": [
        "# Check on the sample sentence\n",
        "sample_sentence = fixed_length_word_counts(marvel_quote,3)\n",
        "print(sample_sentence)"
      ],
      "execution_count": null,
      "outputs": [
        {
          "output_type": "stream",
          "text": [
            "The total count of given input number is-->10\n",
            "[3, 3, 3, 3, 3, 3, 3, 3, 3, 3]\n"
          ],
          "name": "stdout"
        }
      ]
    }
  ]
}